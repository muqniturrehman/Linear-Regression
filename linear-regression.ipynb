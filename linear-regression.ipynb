{
 "cells": [
  {
   "cell_type": "markdown",
   "id": "19109e28",
   "metadata": {},
   "source": [
    "### Import Libraries"
   ]
  },
  {
   "cell_type": "code",
   "execution_count": null,
   "id": "d0ef49ce",
   "metadata": {},
   "outputs": [],
   "source": [
    "\n",
    "import numpy as np\n",
    "import pandas as pd"
   ]
  },
  {
   "cell_type": "markdown",
   "id": "d7d70660",
   "metadata": {},
   "source": [
    "### Load Dataset"
   ]
  },
  {
   "cell_type": "code",
   "execution_count": null,
   "id": "759216dd",
   "metadata": {},
   "outputs": [
    {
     "name": "stdout",
     "output_type": "stream",
     "text": [
      "(1000, 3)\n"
     ]
    },
    {
     "data": {
      "text/plain": [
       "(893, 3)"
      ]
     },
     "execution_count": 63,
     "metadata": {},
     "output_type": "execute_result"
    }
   ],
   "source": [
    "###Load data here###\n",
    "data = pd.read_csv('data.csv')\n",
    "print(data.shape)\n",
    "# Remove rows with zeros in the specified columns\n",
    "cols = ['Bedrooms', 'Area', 'Price']\n",
    "data = data[(data[cols] != 0).all(axis=1)]\n",
    "data.shape\n"
   ]
  },
  {
   "cell_type": "markdown",
   "id": "76272a3d",
   "metadata": {},
   "source": [
    "### Visualize Data"
   ]
  },
  {
   "cell_type": "code",
   "execution_count": 64,
   "id": "230eaba3",
   "metadata": {},
   "outputs": [
    {
     "data": {
      "image/png": "[encoded data removed]",
      "text/plain": [
       "<Figure size 640x480 with 1 Axes>"
      ]
     },
     "metadata": {},
     "output_type": "display_data"
    }
   ],
   "source": [
    "##Run this cell to visualize the data###\n",
    "import matplotlib.pyplot as plt\n",
    "\n",
    "plt.scatter(x=data.Area.values, y=data.Price.values)\n",
    "plt.show()"
   ]
  },
  {
   "cell_type": "markdown",
   "id": "709ca5c5",
   "metadata": {},
   "source": [
    "### Check for Missing Values"
   ]
  },
  {
   "cell_type": "code",
   "execution_count": 65,
   "id": "be32dbb6",
   "metadata": {},
   "outputs": [
    {
     "data": {
      "text/plain": [
       "Bedrooms    0\n",
       "Area        0\n",
       "Price       0\n",
       "dtype: int64"
      ]
     },
     "execution_count": 65,
     "metadata": {},
     "output_type": "execute_result"
    }
   ],
   "source": [
    "###Check for Missing Data###\n",
    "data.isna().sum()"
   ]
  },
  {
   "cell_type": "markdown",
   "id": "a49964dd",
   "metadata": {},
   "source": [
    "### Perform Minmax Scaling"
   ]
  },
  {
   "cell_type": "code",
   "execution_count": 66,
   "id": "c9f04b78",
   "metadata": {},
   "outputs": [],
   "source": [
    "def minmax_scaling (data, column):\n",
    "    min = data[column].min()\n",
    "    max = data[column].max()\n",
    "    return (data[column] - min) / (max - min)"
   ]
  },
  {
   "cell_type": "code",
   "execution_count": 67,
   "id": "c84e4184",
   "metadata": {},
   "outputs": [
    {
     "data": {
      "text/html": [
       "<div>\n",
       "<style scoped>\n",
       "    .dataframe tbody tr th:only-of-type {\n",
       "        vertical-align: middle;\n",
       "    }\n",
       "\n",
       "    .dataframe tbody tr th {\n",
       "        vertical-align: top;\n",
       "    }\n",
       "\n",
       "    .dataframe thead th {\n",
       "        text-align: right;\n",
       "    }\n",
       "</style>\n",
       "<table border=\"1\" class=\"dataframe\">\n",
       "  <thead>\n",
       "    <tr style=\"text-align: right;\">\n",
       "      <th></th>\n",
       "      <th>Bedrooms</th>\n",
       "      <th>Area</th>\n",
       "      <th>Price</th>\n",
       "      <th>S_area</th>\n",
       "      <th>S_price</th>\n",
       "    </tr>\n",
       "  </thead>\n",
       "  <tbody>\n",
       "    <tr>\n",
       "      <th>0</th>\n",
       "      <td>2</td>\n",
       "      <td>202.0</td>\n",
       "      <td>1480000.0</td>\n",
       "      <td>0.070844</td>\n",
       "      <td>0.227611</td>\n",
       "    </tr>\n",
       "    <tr>\n",
       "      <th>1</th>\n",
       "      <td>2</td>\n",
       "      <td>156.0</td>\n",
       "      <td>1035000.0</td>\n",
       "      <td>0.052007</td>\n",
       "      <td>0.142639</td>\n",
       "    </tr>\n",
       "    <tr>\n",
       "      <th>2</th>\n",
       "      <td>3</td>\n",
       "      <td>134.0</td>\n",
       "      <td>1465000.0</td>\n",
       "      <td>0.042998</td>\n",
       "      <td>0.224747</td>\n",
       "    </tr>\n",
       "    <tr>\n",
       "      <th>3</th>\n",
       "      <td>3</td>\n",
       "      <td>94.0</td>\n",
       "      <td>850000.0</td>\n",
       "      <td>0.026618</td>\n",
       "      <td>0.107313</td>\n",
       "    </tr>\n",
       "    <tr>\n",
       "      <th>4</th>\n",
       "      <td>4</td>\n",
       "      <td>120.0</td>\n",
       "      <td>1600000.0</td>\n",
       "      <td>0.037265</td>\n",
       "      <td>0.250525</td>\n",
       "    </tr>\n",
       "  </tbody>\n",
       "</table>\n",
       "</div>"
      ],
      "text/plain": [
       "   Bedrooms   Area      Price    S_area   S_price\n",
       "0         2  202.0  1480000.0  0.070844  0.227611\n",
       "1         2  156.0  1035000.0  0.052007  0.142639\n",
       "2         3  134.0  1465000.0  0.042998  0.224747\n",
       "3         3   94.0   850000.0  0.026618  0.107313\n",
       "4         4  120.0  1600000.0  0.037265  0.250525"
      ]
     },
     "execution_count": 67,
     "metadata": {},
     "output_type": "execute_result"
    }
   ],
   "source": [
    "###Apply above function on appropriate columns###\n",
    "data['S_area'] = minmax_scaling(data, 'Area')\n",
    "data['S_price'] = minmax_scaling(data, 'Price')\n",
    "data.head(5)"
   ]
  },
  {
   "cell_type": "markdown",
   "id": "011b9faf",
   "metadata": {},
   "source": [
    "### Divide Data into Training and Testing"
   ]
  },
  {
   "cell_type": "code",
   "execution_count": 68,
   "id": "fbcec90e",
   "metadata": {},
   "outputs": [],
   "source": [
    "def train_test_split (data, ratio):\n",
    "    indices = np.random.permutation(data.shape[0])\n",
    "    test_set_size = int(data.shape[0] * ratio)\n",
    "    test_indices = indices[:test_set_size]\n",
    "    train_indices = indices[test_set_size:]\n",
    "\n",
    "    return data.iloc[train_indices], data.iloc[test_indices]"
   ]
  },
  {
   "cell_type": "code",
   "execution_count": 69,
   "id": "94cb147f",
   "metadata": {},
   "outputs": [
    {
     "name": "stdout",
     "output_type": "stream",
     "text": [
      "(715, 5)\n",
      "(178, 5)\n",
      "(715, 2)\n",
      "(178, 2)\n",
      "(715,)\n",
      "(178,)\n"
     ]
    }
   ],
   "source": [
    "###Understand the above function and divide data into X_train, X_test, y_train, y_test###\n",
    "train_data, test_data = train_test_split(data, 0.2)\n",
    "print(train_data.shape)\n",
    "print(test_data.shape)\n",
    "# Extracting the features for training and testing\n",
    "x_train = train_data[['Bedrooms','S_area']]\n",
    "print(x_train.shape)\n",
    "x_test = test_data[['Bedrooms','S_area']]\n",
    "print(x_test.shape)\n",
    "# Extracting the target variable for training and testing\n",
    "y_train = train_data['S_price']\n",
    "print(y_train.shape)\n",
    "y_test = test_data['S_price']\n",
    "print(y_test.shape)"
   ]
  },
  {
   "cell_type": "markdown",
   "id": "1e9bca6c",
   "metadata": {},
   "source": [
    "### Calculate Weights Using the Normal Equation Method (Matrix Algebra)"
   ]
  },
  {
   "cell_type": "code",
   "execution_count": 70,
   "id": "88aaffba",
   "metadata": {},
   "outputs": [
    {
     "name": "stdout",
     "output_type": "stream",
     "text": [
      "(715, 2)\n",
      "(715, 3)\n",
      "(715, 1)\n",
      "[[ 0.06027461]\n",
      " [ 0.25067558]\n",
      " [-0.04672107]]\n",
      "(3, 1)\n"
     ]
    },
    {
     "data": {
      "text/plain": [
       "array([[3.        , 0.1048321 , 1.        ],\n",
       "       [3.        , 0.09377559, 1.        ],\n",
       "       [5.        , 0.35094185, 1.        ],\n",
       "       ...,\n",
       "       [3.        , 0.04832105, 1.        ],\n",
       "       [3.        , 0.23054873, 1.        ],\n",
       "       [4.        , 0.13636364, 1.        ]], shape=(715, 3))"
      ]
     },
     "execution_count": 70,
     "metadata": {},
     "output_type": "execute_result"
    }
   ],
   "source": [
    "###Use the np.linalg.inv function to compute the weight vector/array theta (Hint: @ operator in numpy)###\n",
    "###You will be required to extract numpy arrays from the DataFrame (Hint: column_name.values)###\n",
    "###Also, you need to reshape the arrays and merge them to create a multi-dimensional\n",
    "###array in numpy, similar to a Pandas DataFrame (Hint: np.hstack)\n",
    "###A bias vector/column is also required as a column in our stacked array (Hint: np.ones)###\n",
    "# Stacking the features horizontally\n",
    "x_train = x_train.values\n",
    "print(x_train.shape)\n",
    "# Adding a bias column of ones to the feature set\n",
    "x_train = np.hstack((x_train, np.ones((x_train.shape[0], 1))))\n",
    "print(x_train.shape)\n",
    "y_train = y_train.values.reshape(y_train.shape[0], 1)\n",
    "print(y_train.shape)\n",
    "theta = np.linalg.inv(x_train.T @ x_train) @ x_train.T @ y_train\n",
    "print(theta)\n",
    "print(theta.shape)\n",
    "x_train"
   ]
  },
  {
   "cell_type": "markdown",
   "id": "4ced6ddc",
   "metadata": {},
   "source": [
    "### Calculate Predictions on Test Set"
   ]
  },
  {
   "cell_type": "code",
   "execution_count": 71,
   "id": "a2e9d248",
   "metadata": {},
   "outputs": [
    {
     "name": "stdout",
     "output_type": "stream",
     "text": [
      "(178, 2)\n",
      "(178, 3)\n",
      "[[0.32917714]\n",
      " [0.25268356]\n",
      " [0.52248842]\n",
      " [0.2525809 ]\n",
      " [0.21921908]\n",
      " [0.15596758]\n",
      " [0.22722592]\n",
      " [0.08635166]\n",
      " [0.1633585 ]\n",
      " [0.15258007]\n",
      " [0.17259716]\n",
      " [0.1544278 ]\n",
      " [0.27382982]\n",
      " [0.25278621]\n",
      " [0.2551472 ]\n",
      " [0.19004796]\n",
      " [0.10852444]\n",
      " [0.25699493]\n",
      " [0.26284608]\n",
      " [0.32353129]\n",
      " [0.16294789]\n",
      " [0.17403428]\n",
      " [0.15021908]\n",
      " [0.20359799]\n",
      " [0.20626693]\n",
      " [0.26695215]\n",
      " [0.19682297]\n",
      " [0.0888153 ]\n",
      " [0.08522249]\n",
      " [0.15678879]\n",
      " [0.16151077]\n",
      " [0.09394789]\n",
      " [0.19117713]\n",
      " [0.18111725]\n",
      " [0.25309416]\n",
      " [0.21745597]\n",
      " [0.16479563]\n",
      " [0.31757749]\n",
      " [0.18912409]\n",
      " [0.15771266]\n",
      " [0.31059717]\n",
      " [0.16161342]\n",
      " [0.08748083]\n",
      " [0.22732857]\n",
      " [0.26777336]\n",
      " [0.14344406]\n",
      " [0.26602828]\n",
      " [0.19600176]\n",
      " [0.240468  ]\n",
      " [0.20452185]\n",
      " [0.08316945]\n",
      " [0.25412068]\n",
      " [0.18758431]\n",
      " [0.15288802]\n",
      " [0.25124643]\n",
      " [0.25884266]\n",
      " [0.24806423]\n",
      " [0.20267412]\n",
      " [0.15781531]\n",
      " [0.25494189]\n",
      " [0.19107447]\n",
      " [0.26869723]\n",
      " [0.36849276]\n",
      " [0.1954885 ]\n",
      " [0.19323016]\n",
      " [0.17875626]\n",
      " [0.17814035]\n",
      " [0.17126269]\n",
      " [0.13213434]\n",
      " [0.16089486]\n",
      " [0.19394872]\n",
      " [0.14991112]\n",
      " [0.11263051]\n",
      " [0.1925116 ]\n",
      " [0.27803854]\n",
      " [0.25186234]\n",
      " [0.22773918]\n",
      " [0.18512067]\n",
      " [0.18974   ]\n",
      " [0.15709674]\n",
      " [0.08327211]\n",
      " [0.16294789]\n",
      " [0.18799492]\n",
      " [0.1486793 ]\n",
      " [0.1925116 ]\n",
      " [0.13831147]\n",
      " [0.15956039]\n",
      " [0.16284524]\n",
      " [0.18830288]\n",
      " [0.19138243]\n",
      " [0.21285468]\n",
      " [0.08532514]\n",
      " [0.15340128]\n",
      " [0.15278537]\n",
      " [0.09528236]\n",
      " [0.09086833]\n",
      " [0.15309333]\n",
      " [0.24878279]\n",
      " [0.2436502 ]\n",
      " [0.13820882]\n",
      " [0.17793505]\n",
      " [0.20534307]\n",
      " [0.20308473]\n",
      " [0.16099751]\n",
      " [0.14968779]\n",
      " [0.15104029]\n",
      " [0.41603855]\n",
      " [0.1925116 ]\n",
      " [0.25042522]\n",
      " [0.11878961]\n",
      " [0.15997099]\n",
      " [0.08809674]\n",
      " [0.26479646]\n",
      " [0.15258007]\n",
      " [0.14281012]\n",
      " [0.08624901]\n",
      " [0.19169038]\n",
      " [0.14960317]\n",
      " [0.26294873]\n",
      " [0.08532514]\n",
      " [0.10380246]\n",
      " [0.09671948]\n",
      " [0.27916771]\n",
      " [0.17536876]\n",
      " [0.15473575]\n",
      " [0.25894531]\n",
      " [0.08748083]\n",
      " [0.0917922 ]\n",
      " [0.16263994]\n",
      " [0.28101544]\n",
      " [0.18758431]\n",
      " [0.29507873]\n",
      " [0.14036451]\n",
      " [0.18686575]\n",
      " [0.14209156]\n",
      " [0.25227295]\n",
      " [0.27174072]\n",
      " [0.23295639]\n",
      " [0.21755863]\n",
      " [0.15216946]\n",
      " [0.09220281]\n",
      " [0.08594105]\n",
      " [0.31285551]\n",
      " [0.1663354 ]\n",
      " [0.20524042]\n",
      " [0.23622321]\n",
      " [0.20236617]\n",
      " [0.25401803]\n",
      " [0.09405054]\n",
      " [0.09343463]\n",
      " [0.09651418]\n",
      " [0.26038244]\n",
      " [0.22373576]\n",
      " [0.20914118]\n",
      " [0.19076652]\n",
      " [0.02535849]\n",
      " [0.25637902]\n",
      " [0.31244491]\n",
      " [0.18799492]\n",
      " [0.15042438]\n",
      " [0.20893588]\n",
      " [0.16140812]\n",
      " [0.16253729]\n",
      " [0.10144147]\n",
      " [0.19856805]\n",
      " [0.1571994 ]\n",
      " [0.16561684]\n",
      " [0.19169038]\n",
      " [0.210373  ]\n",
      " [0.10123616]\n",
      " [0.2613063 ]\n",
      " [0.2787571 ]\n",
      " [0.19045856]\n",
      " [0.26572033]\n",
      " [0.19292221]\n",
      " [0.22496758]\n",
      " [0.08850734]\n",
      " [0.25781614]]\n"
     ]
    }
   ],
   "source": [
    "###Calculate predictions on X_test using theta###\n",
    "\n",
    "x_test = x_test.values\n",
    "print(x_test.shape)\n",
    "# Adding a bias column of ones to the test set\n",
    "x_test = np.hstack((x_test, np.ones((x_test.shape[0], 1))))\n",
    "print(x_test.shape)\n",
    "# Calculate predictions\n",
    "y_pred = x_test @ theta\n",
    "print(y_pred)"
   ]
  },
  {
   "cell_type": "markdown",
   "id": "7e9b0621",
   "metadata": {},
   "source": [
    "### Calculate MSE (Evaluate Model)"
   ]
  },
  {
   "cell_type": "code",
   "execution_count": 72,
   "id": "29ee4b66",
   "metadata": {},
   "outputs": [
    {
     "name": "stdout",
     "output_type": "stream",
     "text": [
      "Mean Squared Error: 0.0050459396596008515\n"
     ]
    }
   ],
   "source": [
    "###Evaluate the regression model based on Mean Squared Error###\n",
    "# Calculate Mean Squared Error\n",
    "y_test = y_test.values\n",
    "y_test = y_test.reshape(y_test.shape[0], 1)\n",
    "\n",
    "n = len(y_test)\n",
    "MSE = (1 / (2 * n)) * np.sum(np.square(y_pred - y_test))\n",
    "print(\"Mean Squared Error:\", MSE)"
   ]
  },
  {
   "cell_type": "markdown",
   "id": "c47f8829",
   "metadata": {},
   "source": [
    "### Inverse Transform Model's Output"
   ]
  },
  {
   "cell_type": "code",
   "execution_count": 73,
   "id": "67936175",
   "metadata": {},
   "outputs": [
    {
     "name": "stdout",
     "output_type": "stream",
     "text": [
      "Predicted Price: 2011901.0 Actual Price: [3510000.]\n",
      "Predicted Price: 1611304.0 Actual Price: [785000.]\n",
      "Predicted Price: 3024272.0 Actual Price: [4000000.]\n",
      "Predicted Price: 1610766.0 Actual Price: [2900000.]\n",
      "Predicted Price: 1436050.0 Actual Price: [1155000.]\n",
      "Predicted Price: 1104802.0 Actual Price: [890000.]\n",
      "Predicted Price: 1477982.0 Actual Price: [1110000.]\n",
      "Predicted Price: 740224.0 Actual Price: [636000.]\n",
      "Predicted Price: 1143508.0 Actual Price: [995000.]\n",
      "Predicted Price: 1087062.0 Actual Price: [780000.]\n",
      "Predicted Price: 1191891.0 Actual Price: [1500000.]\n",
      "Predicted Price: 1096738.0 Actual Price: [968000.]\n",
      "Predicted Price: 1722047.0 Actual Price: [1100000.]\n",
      "Predicted Price: 1611841.0 Actual Price: [1698888.]\n",
      "Predicted Price: 1624206.0 Actual Price: [1500000.]\n",
      "Predicted Price: 1283281.0 Actual Price: [965000.]\n",
      "Predicted Price: 856342.0 Actual Price: [700000.]\n",
      "Predicted Price: 1633882.0 Actual Price: [1150000.]\n",
      "Predicted Price: 1664525.0 Actual Price: [1137500.]\n",
      "Predicted Price: 1982333.0 Actual Price: [1600000.]\n",
      "Predicted Price: 1141358.0 Actual Price: [1230000.]\n",
      "Predicted Price: 1199418.0 Actual Price: [900000.]\n",
      "Predicted Price: 1074697.0 Actual Price: [1285000.]\n",
      "Predicted Price: 1354243.0 Actual Price: [3401000.]\n",
      "Predicted Price: 1368220.0 Actual Price: [1165000.]\n",
      "Predicted Price: 1686028.0 Actual Price: [1825000.]\n",
      "Predicted Price: 1318762.0 Actual Price: [1200000.]\n",
      "Predicted Price: 753126.0 Actual Price: [580000.]\n",
      "Predicted Price: 734310.0 Actual Price: [851000.]\n",
      "Predicted Price: 1109103.0 Actual Price: [835000.]\n",
      "Predicted Price: 1133832.0 Actual Price: [1135000.]\n",
      "Predicted Price: 780005.0 Actual Price: [580000.]\n",
      "Predicted Price: 1289195.0 Actual Price: [708000.]\n",
      "Predicted Price: 1236511.0 Actual Price: [1440000.]\n",
      "Predicted Price: 1613454.0 Actual Price: [800000.]\n",
      "Predicted Price: 1426817.0 Actual Price: [1560000.]\n",
      "Predicted Price: 1151035.0 Actual Price: [588000.]\n",
      "Predicted Price: 1951153.0 Actual Price: [2550000.]\n",
      "Predicted Price: 1278443.0 Actual Price: [885000.]\n",
      "Predicted Price: 1113941.0 Actual Price: [1100000.]\n",
      "Predicted Price: 1914597.0 Actual Price: [850000.]\n",
      "Predicted Price: 1134369.0 Actual Price: [1115000.]\n",
      "Predicted Price: 746137.0 Actual Price: [1750000.]\n",
      "Predicted Price: 1478520.0 Actual Price: [806000.]\n",
      "Predicted Price: 1690329.0 Actual Price: [2400000.]\n",
      "Predicted Price: 1039217.0 Actual Price: [1195000.]\n",
      "Predicted Price: 1681190.0 Actual Price: [1350000.]\n",
      "Predicted Price: 1314461.0 Actual Price: [1100000.]\n",
      "Predicted Price: 1547331.0 Actual Price: [1850000.]\n",
      "Predicted Price: 1359081.0 Actual Price: [988000.]\n",
      "Predicted Price: 723558.0 Actual Price: [530000.]\n",
      "Predicted Price: 1618830.0 Actual Price: [1430000.]\n",
      "Predicted Price: 1270379.0 Actual Price: [627500.]\n",
      "Predicted Price: 1088675.0 Actual Price: [612000.]\n",
      "Predicted Price: 1603778.0 Actual Price: [1801000.]\n",
      "Predicted Price: 1643559.0 Actual Price: [2575000.]\n",
      "Predicted Price: 1587112.0 Actual Price: [1345000.]\n",
      "Predicted Price: 1349404.0 Actual Price: [1650000.]\n",
      "Predicted Price: 1114479.0 Actual Price: [500000.]\n",
      "Predicted Price: 1623131.0 Actual Price: [1850000.]\n",
      "Predicted Price: 1288657.0 Actual Price: [1125000.]\n",
      "Predicted Price: 1695167.0 Actual Price: [2650000.]\n",
      "Predicted Price: 2217797.0 Actual Price: [2070000.]\n",
      "Predicted Price: 1311773.0 Actual Price: [1050000.]\n",
      "Predicted Price: 1299946.0 Actual Price: [1480000.]\n",
      "Predicted Price: 1224147.0 Actual Price: [1300000.]\n",
      "Predicted Price: 1220921.0 Actual Price: [1715000.]\n",
      "Predicted Price: 1184903.0 Actual Price: [791000.]\n",
      "Predicted Price: 979988.0 Actual Price: [1010000.]\n",
      "Predicted Price: 1130606.0 Actual Price: [600000.]\n",
      "Predicted Price: 1303709.0 Actual Price: [1110000.]\n",
      "Predicted Price: 1073085.0 Actual Price: [955000.]\n",
      "Predicted Price: 877846.0 Actual Price: [925000.]\n",
      "Predicted Price: 1296183.0 Actual Price: [950000.]\n",
      "Predicted Price: 1744088.0 Actual Price: [1950000.]\n",
      "Predicted Price: 1607003.0 Actual Price: [762000.]\n",
      "Predicted Price: 1480670.0 Actual Price: [1247000.]\n",
      "Predicted Price: 1257477.0 Actual Price: [1340000.]\n",
      "Predicted Price: 1281668.0 Actual Price: [636000.]\n",
      "Predicted Price: 1110716.0 Actual Price: [1800000.]\n",
      "Predicted Price: 724096.0 Actual Price: [760000.]\n",
      "Predicted Price: 1141358.0 Actual Price: [2050000.]\n",
      "Predicted Price: 1272529.0 Actual Price: [750000.]\n",
      "Predicted Price: 1066634.0 Actual Price: [675000.]\n",
      "Predicted Price: 1296183.0 Actual Price: [1001000.]\n",
      "Predicted Price: 1012337.0 Actual Price: [730000.]\n",
      "Predicted Price: 1123618.0 Actual Price: [1380000.]\n",
      "Predicted Price: 1140821.0 Actual Price: [1275000.]\n",
      "Predicted Price: 1274142.0 Actual Price: [700000.]\n",
      "Predicted Price: 1290270.0 Actual Price: [910000.]\n",
      "Predicted Price: 1402720.0 Actual Price: [1120000.]\n",
      "Predicted Price: 734848.0 Actual Price: [1562500.]\n",
      "Predicted Price: 1091363.0 Actual Price: [1870000.]\n",
      "Predicted Price: 1088137.0 Actual Price: [2850000.]\n",
      "Predicted Price: 786994.0 Actual Price: [1310000.]\n",
      "Predicted Price: 763877.0 Actual Price: [790000.]\n",
      "Predicted Price: 1089750.0 Actual Price: [1350000.]\n",
      "Predicted Price: 1590875.0 Actual Price: [1100000.]\n",
      "Predicted Price: 1563996.0 Actual Price: [765000.]\n",
      "Predicted Price: 1011800.0 Actual Price: [730000.]\n",
      "Predicted Price: 1219846.0 Actual Price: [700000.]\n",
      "Predicted Price: 1363382.0 Actual Price: [1120000.]\n",
      "Predicted Price: 1351555.0 Actual Price: [1140000.]\n",
      "Predicted Price: 1131144.0 Actual Price: [921000.]\n",
      "Predicted Price: 1071915.0 Actual Price: [1410000.]\n",
      "Predicted Price: 1078998.0 Actual Price: [700000.]\n",
      "Predicted Price: 2466794.0 Actual Price: [2425000.]\n",
      "Predicted Price: 1296183.0 Actual Price: [1040000.]\n",
      "Predicted Price: 1599477.0 Actual Price: [2100000.]\n",
      "Predicted Price: 910101.0 Actual Price: [1350000.]\n",
      "Predicted Price: 1125768.0 Actual Price: [905000.]\n",
      "Predicted Price: 749363.0 Actual Price: [500000.]\n",
      "Predicted Price: 1674739.0 Actual Price: [1800000.]\n",
      "Predicted Price: 1087062.0 Actual Price: [1900000.]\n",
      "Predicted Price: 1035897.0 Actual Price: [1389000.]\n",
      "Predicted Price: 739686.0 Actual Price: [890000.]\n",
      "Predicted Price: 1291883.0 Actual Price: [1200000.]\n",
      "Predicted Price: 1071472.0 Actual Price: [865000.]\n",
      "Predicted Price: 1665063.0 Actual Price: [1620000.]\n",
      "Predicted Price: 734848.0 Actual Price: [510000.]\n",
      "Predicted Price: 831613.0 Actual Price: [797500.]\n",
      "Predicted Price: 794520.0 Actual Price: [705000.]\n",
      "Predicted Price: 1750001.0 Actual Price: [1860000.]\n",
      "Predicted Price: 1206406.0 Actual Price: [801000.]\n",
      "Predicted Price: 1098351.0 Actual Price: [935000.]\n",
      "Predicted Price: 1644097.0 Actual Price: [1010000.]\n",
      "Predicted Price: 746137.0 Actual Price: [1180000.]\n",
      "Predicted Price: 768716.0 Actual Price: [860000.]\n",
      "Predicted Price: 1139745.0 Actual Price: [928000.]\n",
      "Predicted Price: 1759678.0 Actual Price: [1100000.]\n",
      "Predicted Price: 1270379.0 Actual Price: [1200000.]\n",
      "Predicted Price: 1833327.0 Actual Price: [2205000.]\n",
      "Predicted Price: 1023089.0 Actual Price: [1800000.]\n",
      "Predicted Price: 1266616.0 Actual Price: [977000.]\n",
      "Predicted Price: 1032133.0 Actual Price: [1400000.]\n",
      "Predicted Price: 1609153.0 Actual Price: [1500000.]\n",
      "Predicted Price: 1711106.0 Actual Price: [390000.]\n",
      "Predicted Price: 1507993.0 Actual Price: [1480000.]\n",
      "Predicted Price: 1427355.0 Actual Price: [1250000.]\n",
      "Predicted Price: 1084911.0 Actual Price: [2050000.]\n",
      "Predicted Price: 770866.0 Actual Price: [1255000.]\n",
      "Predicted Price: 738073.0 Actual Price: [1315000.]\n",
      "Predicted Price: 1926424.0 Actual Price: [755000.]\n",
      "Predicted Price: 1159099.0 Actual Price: [920000.]\n",
      "Predicted Price: 1362844.0 Actual Price: [1818000.]\n",
      "Predicted Price: 1525101.0 Actual Price: [1010000.]\n",
      "Predicted Price: 1347792.0 Actual Price: [1165000.]\n",
      "Predicted Price: 1618292.0 Actual Price: [1328000.]\n",
      "Predicted Price: 780543.0 Actual Price: [855000.]\n",
      "Predicted Price: 777317.0 Actual Price: [522500.]\n",
      "Predicted Price: 793445.0 Actual Price: [1040000.]\n",
      "Predicted Price: 1651623.0 Actual Price: [1700000.]\n",
      "Predicted Price: 1459704.0 Actual Price: [693000.]\n",
      "Predicted Price: 1383272.0 Actual Price: [1600000.]\n",
      "Predicted Price: 1287044.0 Actual Price: [1095000.]\n",
      "Predicted Price: 420802.0 Actual Price: [1435000.]\n",
      "Predicted Price: 1630657.0 Actual Price: [1100000.]\n",
      "Predicted Price: 1924274.0 Actual Price: [1085000.]\n",
      "Predicted Price: 1272529.0 Actual Price: [700000.]\n",
      "Predicted Price: 1075772.0 Actual Price: [700000.]\n",
      "Predicted Price: 1382197.0 Actual Price: [1275000.]\n",
      "Predicted Price: 1133294.0 Actual Price: [845000.]\n",
      "Predicted Price: 1139208.0 Actual Price: [1472000.]\n",
      "Predicted Price: 819249.0 Actual Price: [640000.]\n",
      "Predicted Price: 1327901.0 Actual Price: [1651000.]\n",
      "Predicted Price: 1111253.0 Actual Price: [932500.]\n",
      "Predicted Price: 1155335.0 Actual Price: [2360000.]\n",
      "Predicted Price: 1291883.0 Actual Price: [1390000.]\n",
      "Predicted Price: 1389723.0 Actual Price: [1060000.]\n",
      "Predicted Price: 818174.0 Actual Price: [855000.]\n",
      "Predicted Price: 1656461.0 Actual Price: [2215000.]\n",
      "Predicted Price: 1747851.0 Actual Price: [965000.]\n",
      "Predicted Price: 1285431.0 Actual Price: [920000.]\n",
      "Predicted Price: 1679577.0 Actual Price: [1415000.]\n",
      "Predicted Price: 1298334.0 Actual Price: [660000.]\n",
      "Predicted Price: 1466155.0 Actual Price: [2800000.]\n",
      "Predicted Price: 751513.0 Actual Price: [1030000.]\n",
      "Predicted Price: 1638183.0 Actual Price: [1905000.]\n"
     ]
    }
   ],
   "source": [
    "###Transform model's output back to original range/scale###\n",
    "\n",
    "def inverse_minmax_scaling(scaled_column, min, max):\n",
    "    return  scaled_column * (max - min) + min\n",
    "\n",
    "min = data['Price'].min()\n",
    "max = data['Price'].max()\n",
    "y_pred_rs = inverse_minmax_scaling(y_pred, min, max)\n",
    "y_test_rs = inverse_minmax_scaling(y_test, min, max)\n",
    "\n",
    "for i in range(len(y_test)):\n",
    "    print(\"Predicted Price:\", round(y_pred_rs[i][0],0), \"Actual Price:\", y_test_rs[i])"
   ]
  },
  {
   "cell_type": "markdown",
   "id": "8c401478",
   "metadata": {},
   "source": [
    "### Calcualte Weights Using Gradient Descent"
   ]
  },
  {
   "cell_type": "code",
   "execution_count": null,
   "id": "7e850309",
   "metadata": {},
   "outputs": [
    {
     "name": "stdout",
     "output_type": "stream",
     "text": [
      "[[0.03142826]\n",
      " [0.00267446]\n",
      " [0.0878758 ]]\n"
     ]
    }
   ],
   "source": [
    "###Implement Batch GD to compute the weight vector theta###\n",
    "\n",
    "theta0, theta1, theta2 =0, 0, 0\n",
    "alpha = 0.0001\n",
    "epochs = 100\n",
    "n = x_train.shape[0]\n",
    "\n",
    "for i in range(epochs):\n",
    "    ###Implement GD###\n",
    "     # Calculate the hypothesis\n",
    "    h_X = theta0 * x_train[:, 0] + theta1 * x_train[:, 1] + theta2 * x_train[:, 2]\n",
    "    \n",
    "    # Calculate the gradients (dh/dtheta0, dh/dtheta1, dh/dtheta2)\n",
    "    \n",
    "    # dh/dtheta0 = (1/n) * sum(h_X - y_train) * x_j where j = 0\n",
    "    dh_dtheta0 = (1/n) * np.sum((h_X - y_train) * x_train[:, 0])\n",
    "    # dh/dtheta1 = (1/n) * sum(h_X - y_train) * x_j where j = 1\n",
    "    dh_dtheta1 = (1/n) * np.sum((h_X - y_train) * x_train[:, 1])\n",
    "    # dh/dtheta2 = (1/n) * sum(h_X - y_train) * x_j where j = 2\n",
    "    dh_dtheta2 = (1/n) * np.sum((h_X - y_train) * x_train[:, 2])\n",
    "    \n",
    "    # Update the theta values\n",
    "    theta0 = theta0 - alpha * dh_dtheta0\n",
    "    theta1 = theta1 - alpha * dh_dtheta1\n",
    "    theta2 = theta2 - alpha * dh_dtheta2\n",
    "    ###End of GD###\n",
    "\n",
    "# Stacking the final theta values\n",
    "theta_gd = np.vstack((theta0, theta1, theta2))\n",
    "print(theta_gd)"
   ]
  },
  {
   "cell_type": "markdown",
   "id": "9334d75b",
   "metadata": {},
   "source": [
    "### Calculate Predictions on Test Set"
   ]
  },
  {
   "cell_type": "code",
   "execution_count": 75,
   "id": "cd4e537c",
   "metadata": {},
   "outputs": [
    {
     "name": "stdout",
     "output_type": "stream",
     "text": [
      "(178, 1)\n"
     ]
    }
   ],
   "source": [
    "###Calculate y_pred on weights from GD###\n",
    "y_pred_gd = x_test @ theta_gd\n",
    "print(y_pred_gd.shape)"
   ]
  },
  {
   "cell_type": "markdown",
   "id": "3d87d01e",
   "metadata": {},
   "source": [
    "### Calculate MSE (Evaluate Model)"
   ]
  },
  {
   "cell_type": "code",
   "execution_count": 76,
   "id": "eecdf4c2",
   "metadata": {},
   "outputs": [
    {
     "name": "stdout",
     "output_type": "stream",
     "text": [
      "Mean Squared Error (GD): 0.005496941560200615\n"
     ]
    }
   ],
   "source": [
    "###Calculate MSE on y_pred from GD###\n",
    "n = len(y_test)\n",
    "MSE_gd = (1 / (2 * n)) * np.sum(np.square(y_pred_gd - y_test))\n",
    "print(\"Mean Squared Error (GD):\", MSE_gd)"
   ]
  },
  {
   "cell_type": "markdown",
   "id": "63759657",
   "metadata": {},
   "source": [
    "### Compare the two Approaches based on MSE ###"
   ]
  },
  {
   "cell_type": "code",
   "execution_count": 77,
   "id": "89b81d41",
   "metadata": {},
   "outputs": [
    {
     "name": "stdout",
     "output_type": "stream",
     "text": [
      "MSE from Normal Equation: 0.0050459396596008515\n",
      "MSE from Gradient Descent: 0.005496941560200615\n"
     ]
    }
   ],
   "source": [
    "###Compare the MSE from both approaches###\n",
    "print(\"MSE from Normal Equation:\", MSE)\n",
    "print(\"MSE from Gradient Descent:\", MSE_gd)\n",
    "###Which approach is more accurate?###\n",
    "###Which approach is fast###?\n"
   ]
  }
 ],
 "metadata": {
  "kernelspec": {
   "display_name": "Python 3",
   "language": "python",
   "name": "python3"
  },
  "language_info": {
   "codemirror_mode": {
    "name": "ipython",
    "version": 3
   },
   "file_extension": ".py",
   "mimetype": "text/x-python",
   "name": "python",
   "nbconvert_exporter": "python",
   "pygments_lexer": "ipython3",
   "version": "3.12.4"
  }
 },
 "nbformat": 4,
 "nbformat_minor": 5
}
